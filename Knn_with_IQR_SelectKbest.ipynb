{
 "cells": [
  {
   "cell_type": "code",
   "execution_count": null,
   "metadata": {},
   "outputs": [],
   "source": [
    "#Import necessory libraries\n",
    "import pandas as pd\n",
    "import numpy as np\n",
    "from sklearn.model_selection import train_test_split\n",
    "from sklearn.metrics import  confusion_matrix,classification_report\n",
    "from sklearn.neighbors import KNeighborsClassifier\n",
    "from sklearn.preprocessing import StandardScaler\n",
    "import seaborn as sns\n",
    "import matplotlib.pyplot as plt\n",
    "import plotly \n",
    "\n",
    "import warnings\n",
    "warnings.filterwarnings('ignore')"
   ]
  },
  {
   "cell_type": "code",
   "execution_count": null,
   "metadata": {},
   "outputs": [],
   "source": [
    "# Get the CSV data here and print head\n",
    "df = pd.read_csv('breast cancer.csv',index_col=0)\n",
    "df.head()"
   ]
  },
  {
   "cell_type": "code",
   "execution_count": null,
   "metadata": {},
   "outputs": [],
   "source": [
    "#print summary\n",
    "print ('Shape        ------>', df.shape)\n",
    "print ('Each Column and data type and its count','\\n')\n",
    "print ( df.info())"
   ]
  },
  {
   "cell_type": "code",
   "execution_count": null,
   "metadata": {},
   "outputs": [],
   "source": [
    "#DROP ALERT 1 : Unnamed:32 column has all nulls. Safe to remove the column.\n",
    "df = df.drop(['Unnamed: 32'],axis=1)"
   ]
  },
  {
   "cell_type": "code",
   "execution_count": null,
   "metadata": {},
   "outputs": [],
   "source": [
    "# Dataframe statistics\n",
    "df.describe()"
   ]
  },
  {
   "cell_type": "markdown",
   "metadata": {},
   "source": [
    "Seems no other cols have nulls. It's safe to proceed."
   ]
  },
  {
   "cell_type": "code",
   "execution_count": null,
   "metadata": {},
   "outputs": [],
   "source": [
    "\n",
    "print ('Belign Tumor (B)    =>',df.diagnosis.value_counts()[0])\n",
    "print ('Malignant Tumor (M) =>',df.diagnosis.value_counts()[1])\n"
   ]
  },
  {
   "cell_type": "markdown",
   "metadata": {},
   "source": [
    "Dataset is not imbalanced, we are good to proceed."
   ]
  },
  {
   "cell_type": "code",
   "execution_count": null,
   "metadata": {},
   "outputs": [],
   "source": [
    "#Plot each class freequency\n",
    "sns.countplot(x='diagnosis',data=df)\n",
    "plt.show()"
   ]
  },
  {
   "cell_type": "code",
   "execution_count": null,
   "metadata": {},
   "outputs": [],
   "source": [
    "df.shape"
   ]
  },
  {
   "cell_type": "markdown",
   "metadata": {},
   "source": [
    "# Visualize the data distribution and analyze the skewness or outliers"
   ]
  },
  {
   "cell_type": "code",
   "execution_count": null,
   "metadata": {},
   "outputs": [],
   "source": [
    "# We dont need to visualize the labels, so seperating only features into new dataframe\n",
    "df_features = df.drop('diagnosis',axis=1)"
   ]
  },
  {
   "cell_type": "code",
   "execution_count": null,
   "metadata": {},
   "outputs": [],
   "source": [
    "# Let's plot data distribution\n",
    "plt.figure(figsize=(15,50))\n",
    "plotnumber = 1\n",
    "\n",
    "for column in df_features:\n",
    "    if plotnumber<=30:    \n",
    "        ax = plt.subplot(10,3,plotnumber)\n",
    "        sns.distplot(df_features[column])\n",
    "        plt.xlabel(column,fontsize=10)      \n",
    "    plotnumber+=1\n",
    "plt.show()"
   ]
  },
  {
   "cell_type": "markdown",
   "metadata": {},
   "source": [
    "# Detecting Outlier with the help of boxplot and IQR."
   ]
  },
  {
   "cell_type": "code",
   "execution_count": null,
   "metadata": {},
   "outputs": [],
   "source": [
    "# Visualize the outliers using boxplot\n",
    "plt.figure(figsize=(15,50))\n",
    "graph = 1\n",
    "\n",
    "for column in df_features:\n",
    "    if graph<=30:    \n",
    "        ax = plt.subplot(10,3,graph)\n",
    "        sns.boxplot(df_features[column],orient='v')\n",
    "        plt.xlabel(column,fontsize=10)      \n",
    "    graph+=1\n",
    "plt.show()"
   ]
  },
  {
   "cell_type": "markdown",
   "metadata": {},
   "source": [
    "### Higher_side\n",
    "===========\n",
    "\n",
    " 'radius_mean',\n",
    " \n",
    " 'texture_mean',\n",
    " \n",
    " 'perimeter_mean',\n",
    " \n",
    " 'area_mean',\n",
    " \n",
    " 'smoothness_mean',\n",
    " \n",
    " 'compactness_mean',\n",
    " \n",
    " 'concavity_mean',\n",
    " \n",
    " 'concave points_mean',\n",
    " \n",
    " 'symmetry_mean',\n",
    " \n",
    " 'fractal_dimension_mean',\n",
    " \n",
    " 'radius_se',\n",
    " \n",
    " 'texture_se',\n",
    " \n",
    " 'perimeter_se',\n",
    " \n",
    " 'area_se',\n",
    " \n",
    " 'smoothness_se',\n",
    " \n",
    " 'compactness_se',\n",
    " \n",
    " 'concavity_se',\n",
    " \n",
    " 'concave points_se',\n",
    " \n",
    " 'symmetry_se',\n",
    " \n",
    " 'fractal_dimension_se',\n",
    " \n",
    " 'radius_worst',\n",
    " \n",
    " 'texture_worst',\n",
    " \n",
    " 'perimeter_worst',\n",
    " \n",
    " 'area_worst',\n",
    " \n",
    " 'smoothness_worst',\n",
    " \n",
    " 'compactness_worst',\n",
    " \n",
    " 'concavity_worst',\n",
    " \n",
    " 'symmetry_worst',\n",
    " \n",
    " 'fractal_dimension_worst'\n",
    "\n",
    "### Lower side\n",
    "===========\n",
    " \n",
    " 'smoothness_mean'\n",
    " \n",
    " 'symmetry_mean'\n",
    " \n",
    " 'smoothness_worst'`"
   ]
  },
  {
   "cell_type": "code",
   "execution_count": null,
   "metadata": {},
   "outputs": [],
   "source": [
    "# Find the IQR (inter quantile range) to identify outliers\n",
    "\n",
    "# 1st quantile\n",
    "q1 = df.quantile(0.25)\n",
    "\n",
    "# 3rd quantile\n",
    "q3 = df.quantile(0.75)\n",
    "\n",
    "# IQR\n",
    "iqr = q3 -q1"
   ]
  },
  {
   "cell_type": "markdown",
   "metadata": {},
   "source": [
    "## Outlier detection formula \n",
    "### higher side ==> Q3 + (1.5 * IQR)\n",
    "### lower side  ==> Q1 - (1.5 * IQR)"
   ]
  },
  {
   "cell_type": "code",
   "execution_count": null,
   "metadata": {},
   "outputs": [],
   "source": [
    "# Validating one outlier\n",
    "rad_mean_high = (q3.radius_mean + (1.5 * iqr.radius_mean))\n",
    "rad_mean_high"
   ]
  },
  {
   "cell_type": "markdown",
   "metadata": {},
   "source": [
    "### Outlier removel higher side"
   ]
  },
  {
   "cell_type": "code",
   "execution_count": null,
   "metadata": {},
   "outputs": [],
   "source": [
    "index = np.where(df['radius_mean'] > rad_mean_high)\n",
    "index"
   ]
  },
  {
   "cell_type": "code",
   "execution_count": null,
   "metadata": {},
   "outputs": [],
   "source": [
    "df = df.drop(df.index[index])"
   ]
  },
  {
   "cell_type": "code",
   "execution_count": null,
   "metadata": {},
   "outputs": [],
   "source": [
    "df.shape"
   ]
  },
  {
   "cell_type": "code",
   "execution_count": null,
   "metadata": {
    "scrolled": true
   },
   "outputs": [],
   "source": [
    "df.reset_index()"
   ]
  },
  {
   "cell_type": "code",
   "execution_count": null,
   "metadata": {},
   "outputs": [],
   "source": [
    "index = np.where(df['texture_mean'] > (q3.texture_mean + (1.5 * iqr.texture_mean)))\n",
    "df = df.drop(df.index[index])\n",
    "df.reset_index()"
   ]
  },
  {
   "cell_type": "code",
   "execution_count": null,
   "metadata": {},
   "outputs": [],
   "source": [
    "index = np.where(df['perimeter_mean'] > (q3.perimeter_mean + (1.5 * iqr.perimeter_mean)))\n",
    "df = df.drop(df.index[index])\n",
    "df.reset_index()"
   ]
  },
  {
   "cell_type": "code",
   "execution_count": null,
   "metadata": {},
   "outputs": [],
   "source": [
    "index = np.where(df['area_mean'] > (q3.area_mean + (1.5 * iqr.area_mean)))\n",
    "df = df.drop(df.index[index])\n",
    "df.reset_index()"
   ]
  },
  {
   "cell_type": "code",
   "execution_count": null,
   "metadata": {
    "scrolled": true
   },
   "outputs": [],
   "source": [
    "index = np.where(df['smoothness_mean'] > (q3.smoothness_mean + (1.5 * iqr.smoothness_mean)))\n",
    "df = df.drop(df.index[index])\n",
    "df.reset_index()"
   ]
  },
  {
   "cell_type": "code",
   "execution_count": null,
   "metadata": {},
   "outputs": [],
   "source": [
    "index = np.where(df['compactness_mean'] > (q3.compactness_mean + (1.5 * iqr.compactness_mean)))\n",
    "df = df.drop(df.index[index])\n",
    "df.reset_index()"
   ]
  },
  {
   "cell_type": "code",
   "execution_count": null,
   "metadata": {},
   "outputs": [],
   "source": [
    "index = np.where(df['concavity_mean'] > (q3.concavity_mean + (1.5 * iqr.concavity_mean)))\n",
    "df = df.drop(df.index[index])\n",
    "df.reset_index()"
   ]
  },
  {
   "cell_type": "code",
   "execution_count": null,
   "metadata": {},
   "outputs": [],
   "source": [
    "index = np.where(df['concave points_mean'] > (q3['concave points_mean'] + (1.5 * iqr['concave points_mean'])))\n",
    "df = df.drop(df.index[index])\n",
    "df.reset_index()"
   ]
  },
  {
   "cell_type": "code",
   "execution_count": null,
   "metadata": {},
   "outputs": [],
   "source": [
    "index = np.where(df['symmetry_mean'] > (q3.symmetry_mean + (1.5 * iqr.symmetry_mean)))\n",
    "df = df.drop(df.index[index])\n",
    "df.reset_index()"
   ]
  },
  {
   "cell_type": "code",
   "execution_count": null,
   "metadata": {},
   "outputs": [],
   "source": [
    "index = np.where(df['fractal_dimension_mean'] > (q3.fractal_dimension_mean + (1.5 * iqr.fractal_dimension_mean)))\n",
    "df = df.drop(df.index[index])\n",
    "df.reset_index()"
   ]
  },
  {
   "cell_type": "code",
   "execution_count": null,
   "metadata": {},
   "outputs": [],
   "source": [
    "index = np.where(df['radius_se'] > (q3.radius_se + (1.5 * iqr.radius_se)))\n",
    "df = df.drop(df.index[index])\n",
    "df.reset_index()"
   ]
  },
  {
   "cell_type": "code",
   "execution_count": null,
   "metadata": {},
   "outputs": [],
   "source": [
    "index = np.where(df['texture_se'] > (q3.texture_se + (1.5 * iqr.texture_se)))\n",
    "df = df.drop(df.index[index])\n",
    "df.reset_index()"
   ]
  },
  {
   "cell_type": "code",
   "execution_count": null,
   "metadata": {},
   "outputs": [],
   "source": [
    "index = np.where(df['perimeter_se'] > (q3.perimeter_se + (1.5 * iqr.perimeter_se)))\n",
    "df = df.drop(df.index[index])\n",
    "df.reset_index()"
   ]
  },
  {
   "cell_type": "code",
   "execution_count": null,
   "metadata": {},
   "outputs": [],
   "source": [
    "index = np.where(df['area_se'] > (q3.area_se + (1.5 * iqr.area_se)))\n",
    "df = df.drop(df.index[index])\n",
    "df.reset_index()"
   ]
  },
  {
   "cell_type": "code",
   "execution_count": null,
   "metadata": {},
   "outputs": [],
   "source": [
    "index = np.where(df['smoothness_se'] > (q3.smoothness_se + (1.5 * iqr.smoothness_se)))\n",
    "df = df.drop(df.index[index])\n",
    "df.reset_index()"
   ]
  },
  {
   "cell_type": "code",
   "execution_count": null,
   "metadata": {},
   "outputs": [],
   "source": [
    "index = np.where(df['compactness_se'] > (q3.compactness_se + (1.5 * iqr.compactness_se)))\n",
    "df = df.drop(df.index[index])\n",
    "df.reset_index()"
   ]
  },
  {
   "cell_type": "code",
   "execution_count": null,
   "metadata": {},
   "outputs": [],
   "source": [
    "index = np.where(df['concavity_se'] > (q3.concavity_se + (1.5 * iqr.concavity_se)))\n",
    "df = df.drop(df.index[index])\n",
    "df.reset_index()"
   ]
  },
  {
   "cell_type": "code",
   "execution_count": null,
   "metadata": {},
   "outputs": [],
   "source": [
    "index = np.where(df['concave points_se'] > (q3['concave points_se'] + (1.5 * iqr['concave points_se'])))\n",
    "df = df.drop(df.index[index])\n",
    "df.reset_index()"
   ]
  },
  {
   "cell_type": "code",
   "execution_count": null,
   "metadata": {},
   "outputs": [],
   "source": [
    "index = np.where(df['symmetry_se'] > (q3.symmetry_se + (1.5 * iqr.symmetry_se)))\n",
    "df = df.drop(df.index[index])\n",
    "df.reset_index()"
   ]
  },
  {
   "cell_type": "code",
   "execution_count": null,
   "metadata": {},
   "outputs": [],
   "source": [
    "index = np.where(df['fractal_dimension_se'] > (q3.fractal_dimension_se + (1.5 * iqr.fractal_dimension_se)))\n",
    "df = df.drop(df.index[index])\n",
    "df.reset_index()"
   ]
  },
  {
   "cell_type": "code",
   "execution_count": null,
   "metadata": {},
   "outputs": [],
   "source": [
    "index = np.where(df['radius_worst'] > (q3.radius_worst + (1.5 * iqr.radius_worst)))\n",
    "df = df.drop(df.index[index])\n",
    "df.reset_index()"
   ]
  },
  {
   "cell_type": "code",
   "execution_count": null,
   "metadata": {},
   "outputs": [],
   "source": [
    "index = np.where(df['texture_worst'] > (q3.texture_worst + (1.5 * iqr.texture_worst)))\n",
    "df = df.drop(df.index[index])\n",
    "df.reset_index()"
   ]
  },
  {
   "cell_type": "code",
   "execution_count": null,
   "metadata": {},
   "outputs": [],
   "source": [
    "index = np.where(df['perimeter_worst'] > (q3.perimeter_worst + (1.5 * iqr.perimeter_worst)))\n",
    "df = df.drop(df.index[index])\n",
    "df.reset_index()"
   ]
  },
  {
   "cell_type": "code",
   "execution_count": null,
   "metadata": {},
   "outputs": [],
   "source": [
    "index = np.where(df['area_worst'] > (q3.area_worst + (1.5 * iqr.area_worst)))\n",
    "df = df.drop(df.index[index])\n",
    "df.reset_index()"
   ]
  },
  {
   "cell_type": "code",
   "execution_count": null,
   "metadata": {},
   "outputs": [],
   "source": [
    "index = np.where(df['smoothness_worst'] > (q3.smoothness_worst + (1.5 * iqr.smoothness_worst)))\n",
    "df = df.drop(df.index[index])\n",
    "df.reset_index()"
   ]
  },
  {
   "cell_type": "code",
   "execution_count": null,
   "metadata": {},
   "outputs": [],
   "source": [
    "index = np.where(df['compactness_worst'] > (q3.compactness_worst + (1.5 * iqr.compactness_worst)))\n",
    "df = df.drop(df.index[index])\n",
    "df.reset_index()"
   ]
  },
  {
   "cell_type": "code",
   "execution_count": null,
   "metadata": {},
   "outputs": [],
   "source": [
    "index = np.where(df['concavity_worst'] > (q3.concavity_worst + (1.5 * iqr.concavity_worst)))\n",
    "df = df.drop(df.index[index])\n",
    "df.reset_index()"
   ]
  },
  {
   "cell_type": "code",
   "execution_count": null,
   "metadata": {},
   "outputs": [],
   "source": [
    "index = np.where(df['symmetry_worst'] > (q3.symmetry_worst + (1.5 * iqr.symmetry_worst)))\n",
    "df = df.drop(df.index[index])\n",
    "df.reset_index()"
   ]
  },
  {
   "cell_type": "code",
   "execution_count": null,
   "metadata": {},
   "outputs": [],
   "source": [
    "index = np.where(df['fractal_dimension_worst'] > (q3.fractal_dimension_worst + (1.5 * iqr.fractal_dimension_worst)))\n",
    "df = df.drop(df.index[index])\n",
    "df.reset_index()"
   ]
  },
  {
   "cell_type": "markdown",
   "metadata": {},
   "source": [
    "#### Lower side outlier removel"
   ]
  },
  {
   "cell_type": "code",
   "execution_count": null,
   "metadata": {},
   "outputs": [],
   "source": [
    "index = np.where(df['smoothness_mean'] < (q1.smoothness_mean - (1.5 * iqr.smoothness_mean)))\n",
    "df = df.drop(df.index[index])\n",
    "df.reset_index()"
   ]
  },
  {
   "cell_type": "code",
   "execution_count": null,
   "metadata": {},
   "outputs": [],
   "source": [
    "index = np.where(df['symmetry_mean'] < (q1.symmetry_mean - (1.5 * iqr.symmetry_mean)))\n",
    "df = df.drop(df.index[index])\n",
    "df.reset_index()"
   ]
  },
  {
   "cell_type": "code",
   "execution_count": null,
   "metadata": {},
   "outputs": [],
   "source": [
    "index = np.where(df['smoothness_worst'] < (q1.smoothness_worst - (1.5 * iqr.smoothness_worst)))\n",
    "df = df.drop(df.index[index])\n",
    "df.reset_index()"
   ]
  },
  {
   "cell_type": "markdown",
   "metadata": {},
   "source": [
    "# Using SelectKBest feature Selection method\n",
    "\n",
    "####  SelectKBest use f_classif function to find best features, where f_classif uses ANOVA test."
   ]
  },
  {
   "cell_type": "code",
   "execution_count": null,
   "metadata": {},
   "outputs": [],
   "source": [
    "from sklearn.feature_selection import SelectKBest, f_classif"
   ]
  },
  {
   "cell_type": "code",
   "execution_count": null,
   "metadata": {
    "scrolled": true
   },
   "outputs": [],
   "source": [
    "#Replace Label column (diagnosis) into binary codes\n",
    "df['diagnosis'] = df['diagnosis'].replace({'M':1,'B':0})"
   ]
  },
  {
   "cell_type": "code",
   "execution_count": null,
   "metadata": {},
   "outputs": [],
   "source": [
    "X = df.drop('diagnosis', axis=1)\n",
    "y = df.diagnosis"
   ]
  },
  {
   "cell_type": "code",
   "execution_count": null,
   "metadata": {},
   "outputs": [],
   "source": [
    "best_features = SelectKBest(score_func=f_classif, k=20)\n",
    "fit = best_features.fit(X,y)\n",
    "df_scores = pd.DataFrame(fit.scores_)\n",
    "df_columns = pd.DataFrame(X.columns)\n",
    "# concatenate dataframes\n",
    "feature_scores = pd.concat([df_columns, df_scores],axis=1)\n",
    "feature_scores.columns = ['Feature_Name','Score']  # name output columns\n",
    "print(feature_scores.nlargest(20,'Score'))  # print 17 best features\n",
    "# export selected features to .csv\n",
    "df_univ_feat = feature_scores.nlargest(20,'Score')\n",
    "df_univ_feat.to_csv('feature_selection_UNIVARIATE.csv', index=False)"
   ]
  },
  {
   "cell_type": "markdown",
   "metadata": {},
   "source": [
    "# Model Building"
   ]
  },
  {
   "cell_type": "code",
   "execution_count": null,
   "metadata": {},
   "outputs": [],
   "source": [
    "new_X = df[df_univ_feat.Feature_Name]"
   ]
  },
  {
   "cell_type": "code",
   "execution_count": null,
   "metadata": {},
   "outputs": [],
   "source": [
    "new_X"
   ]
  },
  {
   "cell_type": "code",
   "execution_count": null,
   "metadata": {},
   "outputs": [],
   "source": [
    "# Buidling model to test unexposed data\n",
    "x_train,x_test,y_train,y_test = train_test_split(new_X,y,test_size = 0.25, random_state= 355)\n",
    "\n",
    "knn = KNeighborsClassifier()\n",
    "knn.fit(x_train,y_train)\n",
    "y_pred = knn.predict(x_test)"
   ]
  },
  {
   "cell_type": "code",
   "execution_count": null,
   "metadata": {},
   "outputs": [],
   "source": [
    "cfm = confusion_matrix(y_test,y_pred)\n",
    "cfm"
   ]
  },
  {
   "cell_type": "code",
   "execution_count": null,
   "metadata": {
    "scrolled": true
   },
   "outputs": [],
   "source": [
    "print (classification_report(y_test,y_pred,digits=2))"
   ]
  },
  {
   "cell_type": "markdown",
   "metadata": {},
   "source": [
    "### Let's Use GridSearchCV for the best parameter to improve the accuracy"
   ]
  },
  {
   "cell_type": "code",
   "execution_count": null,
   "metadata": {},
   "outputs": [],
   "source": [
    "from sklearn.model_selection import GridSearchCV"
   ]
  },
  {
   "cell_type": "code",
   "execution_count": null,
   "metadata": {},
   "outputs": [],
   "source": [
    "param_grid = { 'algorithm' : ['kd_tree', 'brute'],\n",
    "               'leaf_size' : [5,7,9],\n",
    "               'n_neighbors' : [10,13,14]\n",
    "              }"
   ]
  },
  {
   "cell_type": "code",
   "execution_count": null,
   "metadata": {},
   "outputs": [],
   "source": [
    "gridsearch = GridSearchCV(knn, param_grid)"
   ]
  },
  {
   "cell_type": "code",
   "execution_count": null,
   "metadata": {},
   "outputs": [],
   "source": [
    "gridsearch.fit(x_train,y_train)"
   ]
  },
  {
   "cell_type": "code",
   "execution_count": null,
   "metadata": {},
   "outputs": [],
   "source": [
    "gridsearch.best_params_"
   ]
  },
  {
   "cell_type": "code",
   "execution_count": null,
   "metadata": {},
   "outputs": [],
   "source": [
    "# we will use the best parameters in our k-NN algorithm and check if accuracy is increasing.\n",
    "knn = KNeighborsClassifier(algorithm = 'kd_tree', leaf_size =5, n_neighbors =14)"
   ]
  },
  {
   "cell_type": "code",
   "execution_count": null,
   "metadata": {},
   "outputs": [],
   "source": [
    "knn.fit(x_train,y_train)"
   ]
  },
  {
   "cell_type": "code",
   "execution_count": null,
   "metadata": {},
   "outputs": [],
   "source": [
    "y_pred = knn.predict(x_test)"
   ]
  },
  {
   "cell_type": "code",
   "execution_count": null,
   "metadata": {},
   "outputs": [],
   "source": [
    "cfm = confusion_matrix(y_test,y_pred)\n",
    "cfm"
   ]
  },
  {
   "cell_type": "code",
   "execution_count": null,
   "metadata": {},
   "outputs": [],
   "source": [
    "print (classification_report(y_test,y_pred,digits=2))"
   ]
  },
  {
   "cell_type": "code",
   "execution_count": null,
   "metadata": {},
   "outputs": [],
   "source": []
  }
 ],
 "metadata": {
  "hide_input": false,
  "kernelspec": {
   "display_name": "Python 3",
   "language": "python",
   "name": "python3"
  },
  "language_info": {
   "codemirror_mode": {
    "name": "ipython",
    "version": 3
   },
   "file_extension": ".py",
   "mimetype": "text/x-python",
   "name": "python",
   "nbconvert_exporter": "python",
   "pygments_lexer": "ipython3",
   "version": "3.6.5"
  }
 },
 "nbformat": 4,
 "nbformat_minor": 2
}
